{
 "cells": [
  {
   "cell_type": "markdown",
   "metadata": {},
   "source": [
    "# Scalar data visualization in three dimensions\n",
    "\n",
    "Most approaches for 3D visualization fall into one of the following categories [1]:\n",
    "\n",
    "- Slicing techniques: Using a cut plane probe the data to extract a two-dimensional slice of the data, and then use a two-dimensional spatial data visualization methods.\n",
    "\n",
    "- Isosurface techniques: Given a user-specified value, generate a (or several) surface description and visualize it using surface visualization techiniques.\n",
    "\n",
    "- Direct volume rendering: Where an opacity function is assigned to values in the data, and you can see through it when rendered.\n"
   ]
  },
  {
   "cell_type": "code",
   "execution_count": null,
   "metadata": {},
   "outputs": [],
   "source": [
    "import numpy as np\n",
    "import matplotlib.pyplot as plt\n",
    "from mpl_toolkits.mplot3d import Axes3D\n",
    "from mayavi import mlab\n",
    "import ipyvolume as ipv\n",
    "from ipywidgets import interact\n",
    "from IPython.display import display"
   ]
  },
  {
   "cell_type": "code",
   "execution_count": null,
   "metadata": {},
   "outputs": [],
   "source": [
    "%matplotlib notebook\n",
    "mlab.init_notebook()\n",
    "plt.style.use(\"../img/matplotlib.mplstyle\")"
   ]
  },
  {
   "cell_type": "code",
   "execution_count": null,
   "metadata": {},
   "outputs": [],
   "source": [
    "# Test data for the orbitals of a hydrogen atom\n",
    "def hydrogen_wave(n=4, l=3, m=1,\n",
    "                  limits=(-20, 20, -20, 20, -20, 20),\n",
    "                  grid=(51, 51, 51)):\n",
    "    \"\"\"\n",
    "    \"\"\"\n",
    "    from scipy.special import eval_genlaguerre, sph_harm, factorial\n",
    "    from scipy import stats\n",
    "\n",
    "    xmin, xmax, ymin, ymax, zmin, zmax = limits\n",
    "    nx, ny, nz = grid\n",
    "    X, Y, Z = np.mgrid[xmin:xmax:nx*1j,\n",
    "                       ymin:ymax:ny*1j,\n",
    "                       zmin:zmax:nz*1j]\n",
    "    R = np.sqrt(X**2 + Y**2 + Z**2)\n",
    "    Rmin = stats.scoreatpercentile(R.ravel(), 1)\n",
    "    R[R < Rmin] = Rmin\n",
    "    Phi = np.arccos(Z/R)\n",
    "    Theta = np.arctan2(X, Y)\n",
    "    Rho = 2*R/n\n",
    "    norm = np.sqrt((2/n)**3 * factorial(n - l - 1)/(2*n*factorial(n + l)))\n",
    "    Lag = eval_genlaguerre(n - l - 1, 2*l + 1, Rho)\n",
    "    Sph = sph_harm(m, l, Theta, Phi)\n",
    "    wave = norm * np.exp(-0.5*Rho) * Rho**l * Lag * Sph\n",
    "    return X, Y, Z, wave"
   ]
  },
  {
   "cell_type": "code",
   "execution_count": null,
   "metadata": {},
   "outputs": [],
   "source": [
    "X, Y, Z, wave = hydrogen_wave()\n",
    "prob_density = np.real(np.conjugate(wave) * wave)\n",
    "phase = np.angle(wave)"
   ]
  },
  {
   "cell_type": "markdown",
   "metadata": {},
   "source": [
    "## Slices"
   ]
  },
  {
   "cell_type": "code",
   "execution_count": null,
   "metadata": {},
   "outputs": [],
   "source": [
    "mlab.figure()\n",
    "mlab.volume_slice(X, Y, Z, prob_density, colormap=\"viridis\",\n",
    "                  plane_orientation='x_axes')\n",
    "mlab.volume_slice(X, Y, Z, prob_density, colormap=\"viridis\",\n",
    "                  plane_orientation='y_axes')\n",
    "mlab.volume_slice(X, Y, Z, prob_density, colormap=\"viridis\",\n",
    "                  plane_orientation='z_axes')"
   ]
  },
  {
   "cell_type": "markdown",
   "metadata": {},
   "source": [
    "## Isosurfaces"
   ]
  },
  {
   "cell_type": "code",
   "execution_count": null,
   "metadata": {},
   "outputs": [],
   "source": [
    "mlab.figure()\n",
    "mlab.contour3d(X, Y, Z, prob_density,contours=[3e-5])"
   ]
  },
  {
   "cell_type": "code",
   "execution_count": null,
   "metadata": {},
   "outputs": [],
   "source": [
    "ipv.figure()\n",
    "ipv.plot_isosurface(prob_density, color=\"blue\",\n",
    "                    extent=[[-20, 20], [-20, 20], [-20, 20]])\n",
    "#ipv.save(\"hydrogen_isosurface.html\") # We can save the html container\n",
    "ipv.show()"
   ]
  },
  {
   "cell_type": "markdown",
   "metadata": {},
   "source": [
    "Algthough, Matplotlib (itself) does not have the capabilities to do isosurfacing, we can\n",
    "trick her to do it."
   ]
  },
  {
   "cell_type": "code",
   "execution_count": null,
   "metadata": {},
   "outputs": [],
   "source": [
    "from skimage.measure import marching_cubes_lewiner as marching_cubes"
   ]
  },
  {
   "cell_type": "code",
   "execution_count": null,
   "metadata": {},
   "outputs": [],
   "source": [
    "verts, faces, _, _ = marching_cubes(prob_density, 3e-5, step_size=1)"
   ]
  },
  {
   "cell_type": "code",
   "execution_count": null,
   "metadata": {},
   "outputs": [],
   "source": [
    "fig = plt.figure(figsize=(6, 6))\n",
    "ax = Axes3D(fig)\n",
    "ax.plot_trisurf(verts[:, 0], verts[:,1], faces, verts[:, 2],\n",
    "                cmap='Spectral', lw=1)\n",
    "plt.show();"
   ]
  },
  {
   "cell_type": "markdown",
   "metadata": {},
   "source": [
    "We can use ipywidgets to interact with the selection of the isosurface value."
   ]
  },
  {
   "cell_type": "code",
   "execution_count": null,
   "metadata": {},
   "outputs": [],
   "source": [
    "def matplotlib_iso(value=3e-5):\n",
    "    verts, faces, _, _ = marching_cubes(prob_density, value, step_size=2)\n",
    "    ax = plt.gca()\n",
    "    ax.plot_trisurf(verts[:, 0], verts[:,1], faces, verts[:, 2],\n",
    "                    cmap='Spectral', lw=1)\n"
   ]
  },
  {
   "cell_type": "code",
   "execution_count": null,
   "metadata": {},
   "outputs": [],
   "source": [
    "fig = plt.figure(figsize=(6, 6))\n",
    "ax = Axes3D(fig)\n",
    "interact(matplotlib_iso,\n",
    "         value=(1e-8, 7e-5));"
   ]
  },
  {
   "cell_type": "markdown",
   "metadata": {},
   "source": [
    "## Volume rendering"
   ]
  },
  {
   "cell_type": "code",
   "execution_count": null,
   "metadata": {},
   "outputs": [],
   "source": [
    "ipv.figure()\n",
    "ipv.volshow(prob_density, extent=[[-20, 20], [-20, 20], [-20, 20]])\n",
    "ipv.show()"
   ]
  },
  {
   "cell_type": "markdown",
   "metadata": {},
   "source": [
    "## Exercise\n",
    "\n",
    "\n",
    "We want to visualize the dataset of a human head. Pick the technique (and package) that\n",
    "you consider appropriate."
   ]
  },
  {
   "cell_type": "code",
   "execution_count": null,
   "metadata": {},
   "outputs": [],
   "source": [
    "head_data = ipv.examples.head(draw=False)"
   ]
  },
  {
   "cell_type": "markdown",
   "metadata": {},
   "source": [
    "## References\n",
    "\n",
    "1. Matthew O. Ward, Georges Grinstein, Daniel Keim (2015). Interactive Data Visualization: Foundations, Techniques, and Applications. CRC Press."
   ]
  }
 ],
 "metadata": {
  "kernelspec": {
   "display_name": "Python 3",
   "language": "python",
   "name": "python3"
  },
  "language_info": {
   "codemirror_mode": {
    "name": "ipython",
    "version": 3
   },
   "file_extension": ".py",
   "mimetype": "text/x-python",
   "name": "python",
   "nbconvert_exporter": "python",
   "pygments_lexer": "ipython3",
   "version": "3.6.7"
  }
 },
 "nbformat": 4,
 "nbformat_minor": 2
}
